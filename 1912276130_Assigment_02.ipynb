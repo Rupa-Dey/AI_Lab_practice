{
  "nbformat": 4,
  "nbformat_minor": 0,
  "metadata": {
    "colab": {
      "provenance": [],
      "gpuType": "T4",
      "authorship_tag": "ABX9TyN2K16Zcm6JDuAXjkaHHFCl",
      "include_colab_link": true
    },
    "kernelspec": {
      "name": "python3",
      "display_name": "Python 3"
    },
    "language_info": {
      "name": "python"
    },
    "accelerator": "GPU"
  },
  "cells": [
    {
      "cell_type": "markdown",
      "metadata": {
        "id": "view-in-github",
        "colab_type": "text"
      },
      "source": [
        "<a href=\"https://colab.research.google.com/github/Rupa-Dey/AI_Lab_practice/blob/main/1912276130_Assigment_02.ipynb\" target=\"_parent\"><img src=\"https://colab.research.google.com/assets/colab-badge.svg\" alt=\"Open In Colab\"/></a>"
      ]
    },
    {
      "cell_type": "code",
      "execution_count": null,
      "metadata": {
        "id": "cz0Eggckx9k4"
      },
      "outputs": [],
      "source": [
        "from tensorflow.keras.applications import vgg16"
      ]
    },
    {
      "cell_type": "code",
      "source": [
        "from tensorflow.keras.layers import Input, Dense, Activation, Flatten, Conv2D, MaxPooling2D"
      ],
      "metadata": {
        "id": "x91j44Et0QIT"
      },
      "execution_count": null,
      "outputs": []
    },
    {
      "cell_type": "code",
      "source": [
        "from tensorflow.keras.models import Model"
      ],
      "metadata": {
        "id": "QtextU9U2cLY"
      },
      "execution_count": null,
      "outputs": []
    },
    {
      "cell_type": "markdown",
      "source": [
        "VGG-16 model"
      ],
      "metadata": {
        "id": "WjSgvhSjyGtK"
      }
    },
    {
      "cell_type": "code",
      "source": [
        "model_vgg = vgg16.VGG16()\n",
        "model_vgg.summary()"
      ],
      "metadata": {
        "colab": {
          "base_uri": "https://localhost:8080/"
        },
        "id": "fS9mjWGKyF3v",
        "outputId": "c45bfb78-ee71-432b-9bdd-c6d8eeca2994"
      },
      "execution_count": null,
      "outputs": [
        {
          "output_type": "stream",
          "name": "stdout",
          "text": [
            "Model: \"vgg16\"\n",
            "_________________________________________________________________\n",
            " Layer (type)                Output Shape              Param #   \n",
            "=================================================================\n",
            " input_1 (InputLayer)        [(None, 224, 224, 3)]     0         \n",
            "                                                                 \n",
            " block1_conv1 (Conv2D)       (None, 224, 224, 64)      1792      \n",
            "                                                                 \n",
            " block1_conv2 (Conv2D)       (None, 224, 224, 64)      36928     \n",
            "                                                                 \n",
            " block1_pool (MaxPooling2D)  (None, 112, 112, 64)      0         \n",
            "                                                                 \n",
            " block2_conv1 (Conv2D)       (None, 112, 112, 128)     73856     \n",
            "                                                                 \n",
            " block2_conv2 (Conv2D)       (None, 112, 112, 128)     147584    \n",
            "                                                                 \n",
            " block2_pool (MaxPooling2D)  (None, 56, 56, 128)       0         \n",
            "                                                                 \n",
            " block3_conv1 (Conv2D)       (None, 56, 56, 256)       295168    \n",
            "                                                                 \n",
            " block3_conv2 (Conv2D)       (None, 56, 56, 256)       590080    \n",
            "                                                                 \n",
            " block3_conv3 (Conv2D)       (None, 56, 56, 256)       590080    \n",
            "                                                                 \n",
            " block3_pool (MaxPooling2D)  (None, 28, 28, 256)       0         \n",
            "                                                                 \n",
            " block4_conv1 (Conv2D)       (None, 28, 28, 512)       1180160   \n",
            "                                                                 \n",
            " block4_conv2 (Conv2D)       (None, 28, 28, 512)       2359808   \n",
            "                                                                 \n",
            " block4_conv3 (Conv2D)       (None, 28, 28, 512)       2359808   \n",
            "                                                                 \n",
            " block4_pool (MaxPooling2D)  (None, 14, 14, 512)       0         \n",
            "                                                                 \n",
            " block5_conv1 (Conv2D)       (None, 14, 14, 512)       2359808   \n",
            "                                                                 \n",
            " block5_conv2 (Conv2D)       (None, 14, 14, 512)       2359808   \n",
            "                                                                 \n",
            " block5_conv3 (Conv2D)       (None, 14, 14, 512)       2359808   \n",
            "                                                                 \n",
            " block5_pool (MaxPooling2D)  (None, 7, 7, 512)         0         \n",
            "                                                                 \n",
            " flatten (Flatten)           (None, 25088)             0         \n",
            "                                                                 \n",
            " fc1 (Dense)                 (None, 4096)              102764544 \n",
            "                                                                 \n",
            " fc2 (Dense)                 (None, 4096)              16781312  \n",
            "                                                                 \n",
            " predictions (Dense)         (None, 1000)              4097000   \n",
            "                                                                 \n",
            "=================================================================\n",
            "Total params: 138357544 (527.79 MB)\n",
            "Trainable params: 138357544 (527.79 MB)\n",
            "Non-trainable params: 0 (0.00 Byte)\n",
            "_________________________________________________________________\n"
          ]
        }
      ]
    },
    {
      "cell_type": "markdown",
      "source": [
        "VGG16 model design with same architecture"
      ],
      "metadata": {
        "id": "bX_BJ1CHBBGM"
      }
    },
    {
      "cell_type": "code",
      "source": [
        "input = Input((224,224,3))\n",
        "x = Conv2D(filters=64, kernel_size = (3,3), activation = 'relu', padding = 'same')(input)\n",
        "x = Conv2D(filters=64, kernel_size = (3,3), activation = 'relu', padding = 'same')(x)\n",
        "x = MaxPooling2D()(x)\n",
        "\n",
        "x = Conv2D(filters=128, kernel_size = (3,3), activation = 'relu', padding = 'same')(x)\n",
        "x = Conv2D(filters=128, kernel_size = (3,3), activation = 'relu', padding = 'same')(x)\n",
        "x = MaxPooling2D()(x)\n",
        "\n",
        "x = Conv2D(filters=256, kernel_size = (3,3), activation = 'relu', padding = 'same')(x)\n",
        "x = Conv2D(filters=256, kernel_size = (3,3), activation = 'relu', padding = 'same')(x)\n",
        "x = Conv2D(filters=256, kernel_size = (3,3), activation = 'relu', padding = 'same')(x)\n",
        "x = MaxPooling2D()(x)\n",
        "\n",
        "x = Conv2D(filters=512, kernel_size = (3,3), activation = 'relu', padding = 'same')(x)\n",
        "x = Conv2D(filters=512, kernel_size = (3,3), activation = 'relu', padding = 'same')(x)\n",
        "x = Conv2D(filters=512, kernel_size = (3,3), activation = 'relu', padding = 'same')(x)\n",
        "x = MaxPooling2D()(x)\n",
        "\n",
        "x = Conv2D(filters=512, kernel_size = (3,3), activation = 'relu', padding = 'same')(x)\n",
        "x = Conv2D(filters=512, kernel_size = (3,3), activation = 'relu', padding = 'same')(x)\n",
        "x = Conv2D(filters=512, kernel_size = (3,3), activation = 'relu', padding = 'same')(x)\n",
        "x = MaxPooling2D()(x)  #when downsample is neeeded\n",
        "\n",
        "x = Flatten()(x) #here is converted to 1D from 2D\n",
        "\n",
        "fc1 = Dense(4096, activation='relu')(x)\n",
        "fc2 = Dense(4096, activation='relu')(fc1)\n",
        "\n",
        "output = Dense(1000, activation = 'sigmoid')(fc2)\n",
        "\n",
        "model = Model(input,output)\n",
        "model.summary()\n"
      ],
      "metadata": {
        "colab": {
          "base_uri": "https://localhost:8080/"
        },
        "id": "CPey0KF0y22o",
        "outputId": "7a6b73bd-56bc-4c13-a66e-28b96760e3cc"
      },
      "execution_count": null,
      "outputs": [
        {
          "output_type": "stream",
          "name": "stdout",
          "text": [
            "Model: \"model\"\n",
            "_________________________________________________________________\n",
            " Layer (type)                Output Shape              Param #   \n",
            "=================================================================\n",
            " input_2 (InputLayer)        [(None, 224, 224, 3)]     0         \n",
            "                                                                 \n",
            " conv2d (Conv2D)             (None, 224, 224, 64)      1792      \n",
            "                                                                 \n",
            " conv2d_1 (Conv2D)           (None, 224, 224, 64)      36928     \n",
            "                                                                 \n",
            " max_pooling2d (MaxPooling2  (None, 112, 112, 64)      0         \n",
            " D)                                                              \n",
            "                                                                 \n",
            " conv2d_2 (Conv2D)           (None, 112, 112, 128)     73856     \n",
            "                                                                 \n",
            " conv2d_3 (Conv2D)           (None, 112, 112, 128)     147584    \n",
            "                                                                 \n",
            " max_pooling2d_1 (MaxPoolin  (None, 56, 56, 128)       0         \n",
            " g2D)                                                            \n",
            "                                                                 \n",
            " conv2d_4 (Conv2D)           (None, 56, 56, 256)       295168    \n",
            "                                                                 \n",
            " conv2d_5 (Conv2D)           (None, 56, 56, 256)       590080    \n",
            "                                                                 \n",
            " conv2d_6 (Conv2D)           (None, 56, 56, 256)       590080    \n",
            "                                                                 \n",
            " max_pooling2d_2 (MaxPoolin  (None, 28, 28, 256)       0         \n",
            " g2D)                                                            \n",
            "                                                                 \n",
            " conv2d_7 (Conv2D)           (None, 28, 28, 512)       1180160   \n",
            "                                                                 \n",
            " conv2d_8 (Conv2D)           (None, 28, 28, 512)       2359808   \n",
            "                                                                 \n",
            " conv2d_9 (Conv2D)           (None, 28, 28, 512)       2359808   \n",
            "                                                                 \n",
            " max_pooling2d_3 (MaxPoolin  (None, 14, 14, 512)       0         \n",
            " g2D)                                                            \n",
            "                                                                 \n",
            " conv2d_10 (Conv2D)          (None, 14, 14, 512)       2359808   \n",
            "                                                                 \n",
            " conv2d_11 (Conv2D)          (None, 14, 14, 512)       2359808   \n",
            "                                                                 \n",
            " conv2d_12 (Conv2D)          (None, 14, 14, 512)       2359808   \n",
            "                                                                 \n",
            " max_pooling2d_4 (MaxPoolin  (None, 7, 7, 512)         0         \n",
            " g2D)                                                            \n",
            "                                                                 \n",
            " flatten (Flatten)           (None, 25088)             0         \n",
            "                                                                 \n",
            " dense (Dense)               (None, 4096)              102764544 \n",
            "                                                                 \n",
            " dense_1 (Dense)             (None, 4096)              16781312  \n",
            "                                                                 \n",
            " dense_2 (Dense)             (None, 1000)              4097000   \n",
            "                                                                 \n",
            "=================================================================\n",
            "Total params: 138357544 (527.79 MB)\n",
            "Trainable params: 138357544 (527.79 MB)\n",
            "Non-trainable params: 0 (0.00 Byte)\n",
            "_________________________________________________________________\n"
          ]
        }
      ]
    },
    {
      "cell_type": "markdown",
      "source": [
        "Weight Load from vgg16 to custom vgg16\n"
      ],
      "metadata": {
        "id": "mKnpursb4zmE"
      }
    },
    {
      "cell_type": "code",
      "source": [
        "for i,l in enumerate(model_vgg.layers):\n",
        "  wt_vgg = l.get_weights()\n",
        "  # print(wt_vgg)\n",
        "  model.layers[i].set_weights(wt_vgg)\n",
        "\n",
        "  # model.summary()\n",
        "  # exit()"
      ],
      "metadata": {
        "id": "7BDo5fG945m3"
      },
      "execution_count": null,
      "outputs": []
    },
    {
      "cell_type": "markdown",
      "source": [
        "custom vgg16 with different architecture"
      ],
      "metadata": {
        "id": "-4zu1prl8yYg"
      }
    },
    {
      "cell_type": "code",
      "source": [
        "input = Input((224,224,3))\n",
        "x = Conv2D(filters=32, kernel_size = (3,3), activation = 'relu', padding = 'same')(input)\n",
        "x = Conv2D(filters=32, kernel_size = (3,3), activation = 'relu', padding = 'same')(x)\n",
        "x = MaxPooling2D()(x)\n",
        "\n",
        "x = Conv2D(filters=64, kernel_size = (3,3), activation = 'relu', padding = 'same')(x)\n",
        "x = Conv2D(filters=64, kernel_size = (3,3), activation = 'relu', padding = 'same')(x)\n",
        "x = MaxPooling2D()(x)\n",
        "\n",
        "x = Conv2D(filters=128, kernel_size = (3,3), activation = 'relu', padding = 'same')(x)\n",
        "x = Conv2D(filters=128, kernel_size = (3,3), activation = 'relu', padding = 'same')(x)\n",
        "x = MaxPooling2D()(x)\n",
        "\n",
        "x = Conv2D(filters=512, kernel_size = (3,3), activation = 'relu', padding = 'same')(x)\n",
        "x = Conv2D(filters=512, kernel_size = (3,3), activation = 'relu', padding = 'same')(x)\n",
        "x = Conv2D(filters=512, kernel_size = (3,3), activation = 'relu', padding = 'same')(x)\n",
        "x = MaxPooling2D()(x)\n",
        "\n",
        "x = Conv2D(filters=256, kernel_size = (3,3), activation = 'relu', padding = 'same')(x)\n",
        "x = Conv2D(filters=256, kernel_size = (3,3), activation = 'relu', padding = 'same')(x)\n",
        "x = MaxPooling2D()(x)  #when downsample is neeeded\n",
        "\n",
        "x = Flatten()(x) #here is converted to 1D from 2D\n",
        "\n",
        "fc1 = Dense(512, activation='relu')(x)\n",
        "fc2 = Dense(1024, activation='relu')(fc1)\n",
        "\n",
        "output = Dense(256, activation = 'sigmoid')(fc2)\n",
        "\n",
        "model = Model(input,output)\n",
        "model.summary()\n"
      ],
      "metadata": {
        "colab": {
          "base_uri": "https://localhost:8080/"
        },
        "id": "D26kqb_M8tpX",
        "outputId": "64ef6019-1fa3-40c6-eb9c-1174d1499081"
      },
      "execution_count": null,
      "outputs": [
        {
          "output_type": "stream",
          "name": "stdout",
          "text": [
            "Model: \"model_1\"\n",
            "_________________________________________________________________\n",
            " Layer (type)                Output Shape              Param #   \n",
            "=================================================================\n",
            " input_3 (InputLayer)        [(None, 224, 224, 3)]     0         \n",
            "                                                                 \n",
            " conv2d_13 (Conv2D)          (None, 224, 224, 32)      896       \n",
            "                                                                 \n",
            " conv2d_14 (Conv2D)          (None, 224, 224, 32)      9248      \n",
            "                                                                 \n",
            " max_pooling2d_5 (MaxPoolin  (None, 112, 112, 32)      0         \n",
            " g2D)                                                            \n",
            "                                                                 \n",
            " conv2d_15 (Conv2D)          (None, 112, 112, 64)      18496     \n",
            "                                                                 \n",
            " conv2d_16 (Conv2D)          (None, 112, 112, 64)      36928     \n",
            "                                                                 \n",
            " max_pooling2d_6 (MaxPoolin  (None, 56, 56, 64)        0         \n",
            " g2D)                                                            \n",
            "                                                                 \n",
            " conv2d_17 (Conv2D)          (None, 56, 56, 128)       73856     \n",
            "                                                                 \n",
            " conv2d_18 (Conv2D)          (None, 56, 56, 128)       147584    \n",
            "                                                                 \n",
            " max_pooling2d_7 (MaxPoolin  (None, 28, 28, 128)       0         \n",
            " g2D)                                                            \n",
            "                                                                 \n",
            " conv2d_19 (Conv2D)          (None, 28, 28, 512)       590336    \n",
            "                                                                 \n",
            " conv2d_20 (Conv2D)          (None, 28, 28, 512)       2359808   \n",
            "                                                                 \n",
            " conv2d_21 (Conv2D)          (None, 28, 28, 512)       2359808   \n",
            "                                                                 \n",
            " max_pooling2d_8 (MaxPoolin  (None, 14, 14, 512)       0         \n",
            " g2D)                                                            \n",
            "                                                                 \n",
            " conv2d_22 (Conv2D)          (None, 14, 14, 256)       1179904   \n",
            "                                                                 \n",
            " conv2d_23 (Conv2D)          (None, 14, 14, 256)       590080    \n",
            "                                                                 \n",
            " max_pooling2d_9 (MaxPoolin  (None, 7, 7, 256)         0         \n",
            " g2D)                                                            \n",
            "                                                                 \n",
            " flatten_1 (Flatten)         (None, 12544)             0         \n",
            "                                                                 \n",
            " dense_3 (Dense)             (None, 512)               6423040   \n",
            "                                                                 \n",
            " dense_4 (Dense)             (None, 1024)              525312    \n",
            "                                                                 \n",
            " dense_5 (Dense)             (None, 256)               262400    \n",
            "                                                                 \n",
            "=================================================================\n",
            "Total params: 14577696 (55.61 MB)\n",
            "Trainable params: 14577696 (55.61 MB)\n",
            "Non-trainable params: 0 (0.00 Byte)\n",
            "_________________________________________________________________\n"
          ]
        }
      ]
    }
  ]
}