{
  "nbformat": 4,
  "nbformat_minor": 0,
  "metadata": {
    "colab": {
      "provenance": [],
      "gpuType": "T4"
    },
    "kernelspec": {
      "name": "python3",
      "display_name": "Python 3"
    },
    "language_info": {
      "name": "python"
    },
    "accelerator": "GPU"
  },
  "cells": [
    {
      "cell_type": "code",
      "execution_count": 1,
      "metadata": {
        "id": "h2l8FOMm8rgy"
      },
      "outputs": [],
      "source": [
        "from tensorflow.keras.layers import Dense,Input\n",
        "from tensorflow.keras.models import Model\n",
        "\n"
      ]
    },
    {
      "cell_type": "code",
      "source": [
        "import tensorflow as tf"
      ],
      "metadata": {
        "id": "cm9RjxOzsXsM"
      },
      "execution_count": 2,
      "outputs": []
    },
    {
      "cell_type": "markdown",
      "source": [
        "fully connected neural network"
      ],
      "metadata": {
        "id": "2Q3EJKcX_llQ"
      }
    },
    {
      "cell_type": "code",
      "source": [
        "inputs = Input((1,))\n",
        "X1 = Dense(32, activation='relu')(inputs)\n",
        "X2 = Dense(64,activation = 'relu')(X1)\n",
        "X =  Dense(128, activation = 'relu')(X2)\n",
        "outputs = Dense(1)(X)\n",
        "\n",
        "model = Model(inputs,outputs)\n",
        "model.compile('adam', loss = 'mse', metrics= tf.keras.metrics.R2Score(name=\"accuracy\"))\n",
        "model.summary()\n"
      ],
      "metadata": {
        "colab": {
          "base_uri": "https://localhost:8080/"
        },
        "id": "DuTKOWY9-xjq",
        "outputId": "cf44df40-c150-49a4-8566-adf5fa4cba3e"
      },
      "execution_count": 3,
      "outputs": [
        {
          "output_type": "stream",
          "name": "stdout",
          "text": [
            "Model: \"model\"\n",
            "_________________________________________________________________\n",
            " Layer (type)                Output Shape              Param #   \n",
            "=================================================================\n",
            " input_1 (InputLayer)        [(None, 1)]               0         \n",
            "                                                                 \n",
            " dense (Dense)               (None, 32)                64        \n",
            "                                                                 \n",
            " dense_1 (Dense)             (None, 64)                2112      \n",
            "                                                                 \n",
            " dense_2 (Dense)             (None, 128)               8320      \n",
            "                                                                 \n",
            " dense_3 (Dense)             (None, 1)                 129       \n",
            "                                                                 \n",
            "=================================================================\n",
            "Total params: 10625 (41.50 KB)\n",
            "Trainable params: 10625 (41.50 KB)\n",
            "Non-trainable params: 0 (0.00 Byte)\n",
            "_________________________________________________________________\n"
          ]
        }
      ]
    },
    {
      "cell_type": "code",
      "source": [
        "import numpy as np\n",
        "import matplotlib.pyplot as plt\n"
      ],
      "metadata": {
        "id": "YSlKAE_3Lc2F"
      },
      "execution_count": 4,
      "outputs": []
    },
    {
      "cell_type": "code",
      "source": [
        "# x = np.random.randint(-20,21, size = 5000,dtype=int)\n",
        "x  = np.arange(-20,20,0.1)\n",
        "y = 5*(x**3)-8*(x**2) -7*x +1\n",
        "\n",
        "print(x)\n",
        "print(y)\n"
      ],
      "metadata": {
        "id": "MmejZ49pCW1t",
        "colab": {
          "base_uri": "https://localhost:8080/"
        },
        "outputId": "e3c7af6d-4131-41e5-f752-93cc0a3b907d"
      },
      "execution_count": 6,
      "outputs": [
        {
          "output_type": "stream",
          "name": "stdout",
          "text": [
            "[-2.00000000e+01 -1.99000000e+01 -1.98000000e+01 -1.97000000e+01\n",
            " -1.96000000e+01 -1.95000000e+01 -1.94000000e+01 -1.93000000e+01\n",
            " -1.92000000e+01 -1.91000000e+01 -1.90000000e+01 -1.89000000e+01\n",
            " -1.88000000e+01 -1.87000000e+01 -1.86000000e+01 -1.85000000e+01\n",
            " -1.84000000e+01 -1.83000000e+01 -1.82000000e+01 -1.81000000e+01\n",
            " -1.80000000e+01 -1.79000000e+01 -1.78000000e+01 -1.77000000e+01\n",
            " -1.76000000e+01 -1.75000000e+01 -1.74000000e+01 -1.73000000e+01\n",
            " -1.72000000e+01 -1.71000000e+01 -1.70000000e+01 -1.69000000e+01\n",
            " -1.68000000e+01 -1.67000000e+01 -1.66000000e+01 -1.65000000e+01\n",
            " -1.64000000e+01 -1.63000000e+01 -1.62000000e+01 -1.61000000e+01\n",
            " -1.60000000e+01 -1.59000000e+01 -1.58000000e+01 -1.57000000e+01\n",
            " -1.56000000e+01 -1.55000000e+01 -1.54000000e+01 -1.53000000e+01\n",
            " -1.52000000e+01 -1.51000000e+01 -1.50000000e+01 -1.49000000e+01\n",
            " -1.48000000e+01 -1.47000000e+01 -1.46000000e+01 -1.45000000e+01\n",
            " -1.44000000e+01 -1.43000000e+01 -1.42000000e+01 -1.41000000e+01\n",
            " -1.40000000e+01 -1.39000000e+01 -1.38000000e+01 -1.37000000e+01\n",
            " -1.36000000e+01 -1.35000000e+01 -1.34000000e+01 -1.33000000e+01\n",
            " -1.32000000e+01 -1.31000000e+01 -1.30000000e+01 -1.29000000e+01\n",
            " -1.28000000e+01 -1.27000000e+01 -1.26000000e+01 -1.25000000e+01\n",
            " -1.24000000e+01 -1.23000000e+01 -1.22000000e+01 -1.21000000e+01\n",
            " -1.20000000e+01 -1.19000000e+01 -1.18000000e+01 -1.17000000e+01\n",
            " -1.16000000e+01 -1.15000000e+01 -1.14000000e+01 -1.13000000e+01\n",
            " -1.12000000e+01 -1.11000000e+01 -1.10000000e+01 -1.09000000e+01\n",
            " -1.08000000e+01 -1.07000000e+01 -1.06000000e+01 -1.05000000e+01\n",
            " -1.04000000e+01 -1.03000000e+01 -1.02000000e+01 -1.01000000e+01\n",
            " -1.00000000e+01 -9.90000000e+00 -9.80000000e+00 -9.70000000e+00\n",
            " -9.60000000e+00 -9.50000000e+00 -9.40000000e+00 -9.30000000e+00\n",
            " -9.20000000e+00 -9.10000000e+00 -9.00000000e+00 -8.90000000e+00\n",
            " -8.80000000e+00 -8.70000000e+00 -8.60000000e+00 -8.50000000e+00\n",
            " -8.40000000e+00 -8.30000000e+00 -8.20000000e+00 -8.10000000e+00\n",
            " -8.00000000e+00 -7.90000000e+00 -7.80000000e+00 -7.70000000e+00\n",
            " -7.60000000e+00 -7.50000000e+00 -7.40000000e+00 -7.30000000e+00\n",
            " -7.20000000e+00 -7.10000000e+00 -7.00000000e+00 -6.90000000e+00\n",
            " -6.80000000e+00 -6.70000000e+00 -6.60000000e+00 -6.50000000e+00\n",
            " -6.40000000e+00 -6.30000000e+00 -6.20000000e+00 -6.10000000e+00\n",
            " -6.00000000e+00 -5.90000000e+00 -5.80000000e+00 -5.70000000e+00\n",
            " -5.60000000e+00 -5.50000000e+00 -5.40000000e+00 -5.30000000e+00\n",
            " -5.20000000e+00 -5.10000000e+00 -5.00000000e+00 -4.90000000e+00\n",
            " -4.80000000e+00 -4.70000000e+00 -4.60000000e+00 -4.50000000e+00\n",
            " -4.40000000e+00 -4.30000000e+00 -4.20000000e+00 -4.10000000e+00\n",
            " -4.00000000e+00 -3.90000000e+00 -3.80000000e+00 -3.70000000e+00\n",
            " -3.60000000e+00 -3.50000000e+00 -3.40000000e+00 -3.30000000e+00\n",
            " -3.20000000e+00 -3.10000000e+00 -3.00000000e+00 -2.90000000e+00\n",
            " -2.80000000e+00 -2.70000000e+00 -2.60000000e+00 -2.50000000e+00\n",
            " -2.40000000e+00 -2.30000000e+00 -2.20000000e+00 -2.10000000e+00\n",
            " -2.00000000e+00 -1.90000000e+00 -1.80000000e+00 -1.70000000e+00\n",
            " -1.60000000e+00 -1.50000000e+00 -1.40000000e+00 -1.30000000e+00\n",
            " -1.20000000e+00 -1.10000000e+00 -1.00000000e+00 -9.00000000e-01\n",
            " -8.00000000e-01 -7.00000000e-01 -6.00000000e-01 -5.00000000e-01\n",
            " -4.00000000e-01 -3.00000000e-01 -2.00000000e-01 -1.00000000e-01\n",
            "  2.84217094e-13  1.00000000e-01  2.00000000e-01  3.00000000e-01\n",
            "  4.00000000e-01  5.00000000e-01  6.00000000e-01  7.00000000e-01\n",
            "  8.00000000e-01  9.00000000e-01  1.00000000e+00  1.10000000e+00\n",
            "  1.20000000e+00  1.30000000e+00  1.40000000e+00  1.50000000e+00\n",
            "  1.60000000e+00  1.70000000e+00  1.80000000e+00  1.90000000e+00\n",
            "  2.00000000e+00  2.10000000e+00  2.20000000e+00  2.30000000e+00\n",
            "  2.40000000e+00  2.50000000e+00  2.60000000e+00  2.70000000e+00\n",
            "  2.80000000e+00  2.90000000e+00  3.00000000e+00  3.10000000e+00\n",
            "  3.20000000e+00  3.30000000e+00  3.40000000e+00  3.50000000e+00\n",
            "  3.60000000e+00  3.70000000e+00  3.80000000e+00  3.90000000e+00\n",
            "  4.00000000e+00  4.10000000e+00  4.20000000e+00  4.30000000e+00\n",
            "  4.40000000e+00  4.50000000e+00  4.60000000e+00  4.70000000e+00\n",
            "  4.80000000e+00  4.90000000e+00  5.00000000e+00  5.10000000e+00\n",
            "  5.20000000e+00  5.30000000e+00  5.40000000e+00  5.50000000e+00\n",
            "  5.60000000e+00  5.70000000e+00  5.80000000e+00  5.90000000e+00\n",
            "  6.00000000e+00  6.10000000e+00  6.20000000e+00  6.30000000e+00\n",
            "  6.40000000e+00  6.50000000e+00  6.60000000e+00  6.70000000e+00\n",
            "  6.80000000e+00  6.90000000e+00  7.00000000e+00  7.10000000e+00\n",
            "  7.20000000e+00  7.30000000e+00  7.40000000e+00  7.50000000e+00\n",
            "  7.60000000e+00  7.70000000e+00  7.80000000e+00  7.90000000e+00\n",
            "  8.00000000e+00  8.10000000e+00  8.20000000e+00  8.30000000e+00\n",
            "  8.40000000e+00  8.50000000e+00  8.60000000e+00  8.70000000e+00\n",
            "  8.80000000e+00  8.90000000e+00  9.00000000e+00  9.10000000e+00\n",
            "  9.20000000e+00  9.30000000e+00  9.40000000e+00  9.50000000e+00\n",
            "  9.60000000e+00  9.70000000e+00  9.80000000e+00  9.90000000e+00\n",
            "  1.00000000e+01  1.01000000e+01  1.02000000e+01  1.03000000e+01\n",
            "  1.04000000e+01  1.05000000e+01  1.06000000e+01  1.07000000e+01\n",
            "  1.08000000e+01  1.09000000e+01  1.10000000e+01  1.11000000e+01\n",
            "  1.12000000e+01  1.13000000e+01  1.14000000e+01  1.15000000e+01\n",
            "  1.16000000e+01  1.17000000e+01  1.18000000e+01  1.19000000e+01\n",
            "  1.20000000e+01  1.21000000e+01  1.22000000e+01  1.23000000e+01\n",
            "  1.24000000e+01  1.25000000e+01  1.26000000e+01  1.27000000e+01\n",
            "  1.28000000e+01  1.29000000e+01  1.30000000e+01  1.31000000e+01\n",
            "  1.32000000e+01  1.33000000e+01  1.34000000e+01  1.35000000e+01\n",
            "  1.36000000e+01  1.37000000e+01  1.38000000e+01  1.39000000e+01\n",
            "  1.40000000e+01  1.41000000e+01  1.42000000e+01  1.43000000e+01\n",
            "  1.44000000e+01  1.45000000e+01  1.46000000e+01  1.47000000e+01\n",
            "  1.48000000e+01  1.49000000e+01  1.50000000e+01  1.51000000e+01\n",
            "  1.52000000e+01  1.53000000e+01  1.54000000e+01  1.55000000e+01\n",
            "  1.56000000e+01  1.57000000e+01  1.58000000e+01  1.59000000e+01\n",
            "  1.60000000e+01  1.61000000e+01  1.62000000e+01  1.63000000e+01\n",
            "  1.64000000e+01  1.65000000e+01  1.66000000e+01  1.67000000e+01\n",
            "  1.68000000e+01  1.69000000e+01  1.70000000e+01  1.71000000e+01\n",
            "  1.72000000e+01  1.73000000e+01  1.74000000e+01  1.75000000e+01\n",
            "  1.76000000e+01  1.77000000e+01  1.78000000e+01  1.79000000e+01\n",
            "  1.80000000e+01  1.81000000e+01  1.82000000e+01  1.83000000e+01\n",
            "  1.84000000e+01  1.85000000e+01  1.86000000e+01  1.87000000e+01\n",
            "  1.88000000e+01  1.89000000e+01  1.90000000e+01  1.91000000e+01\n",
            "  1.92000000e+01  1.93000000e+01  1.94000000e+01  1.95000000e+01\n",
            "  1.96000000e+01  1.97000000e+01  1.98000000e+01  1.99000000e+01]\n",
            "[-4.3059000e+04 -4.2430775e+04 -4.1808680e+04 -4.1192685e+04\n",
            " -4.0582760e+04 -3.9978875e+04 -3.9381000e+04 -3.8789105e+04\n",
            " -3.8203160e+04 -3.7623135e+04 -3.7049000e+04 -3.6480725e+04\n",
            " -3.5918280e+04 -3.5361635e+04 -3.4810760e+04 -3.4265625e+04\n",
            " -3.3726200e+04 -3.3192455e+04 -3.2664360e+04 -3.2141885e+04\n",
            " -3.1625000e+04 -3.1113675e+04 -3.0607880e+04 -3.0107585e+04\n",
            " -2.9612760e+04 -2.9123375e+04 -2.8639400e+04 -2.8160805e+04\n",
            " -2.7687560e+04 -2.7219635e+04 -2.6757000e+04 -2.6299625e+04\n",
            " -2.5847480e+04 -2.5400535e+04 -2.4958760e+04 -2.4522125e+04\n",
            " -2.4090600e+04 -2.3664155e+04 -2.3242760e+04 -2.2826385e+04\n",
            " -2.2415000e+04 -2.2008575e+04 -2.1607080e+04 -2.1210485e+04\n",
            " -2.0818760e+04 -2.0431875e+04 -2.0049800e+04 -1.9672505e+04\n",
            " -1.9299960e+04 -1.8932135e+04 -1.8569000e+04 -1.8210525e+04\n",
            " -1.7856680e+04 -1.7507435e+04 -1.7162760e+04 -1.6822625e+04\n",
            " -1.6487000e+04 -1.6155855e+04 -1.5829160e+04 -1.5506885e+04\n",
            " -1.5189000e+04 -1.4875475e+04 -1.4566280e+04 -1.4261385e+04\n",
            " -1.3960760e+04 -1.3664375e+04 -1.3372200e+04 -1.3084205e+04\n",
            " -1.2800360e+04 -1.2520635e+04 -1.2245000e+04 -1.1973425e+04\n",
            " -1.1705880e+04 -1.1442335e+04 -1.1182760e+04 -1.0927125e+04\n",
            " -1.0675400e+04 -1.0427555e+04 -1.0183560e+04 -9.9433850e+03\n",
            " -9.7070000e+03 -9.4743750e+03 -9.2454800e+03 -9.0202850e+03\n",
            " -8.7987600e+03 -8.5808750e+03 -8.3666000e+03 -8.1559050e+03\n",
            " -7.9487600e+03 -7.7451350e+03 -7.5450000e+03 -7.3483250e+03\n",
            " -7.1550800e+03 -6.9652350e+03 -6.7787600e+03 -6.5956250e+03\n",
            " -6.4158000e+03 -6.2392550e+03 -6.0659600e+03 -5.8958850e+03\n",
            " -5.7290000e+03 -5.5652750e+03 -5.4046800e+03 -5.2471850e+03\n",
            " -5.0927600e+03 -4.9413750e+03 -4.7930000e+03 -4.6476050e+03\n",
            " -4.5051600e+03 -4.3656350e+03 -4.2290000e+03 -4.0952250e+03\n",
            " -3.9642800e+03 -3.8361350e+03 -3.7107600e+03 -3.5881250e+03\n",
            " -3.4682000e+03 -3.3509550e+03 -3.2363600e+03 -3.1243850e+03\n",
            " -3.0150000e+03 -2.9081750e+03 -2.8038800e+03 -2.7020850e+03\n",
            " -2.6027600e+03 -2.5058750e+03 -2.4114000e+03 -2.3193050e+03\n",
            " -2.2295600e+03 -2.1421350e+03 -2.0570000e+03 -1.9741250e+03\n",
            " -1.8934800e+03 -1.8150350e+03 -1.7387600e+03 -1.6646250e+03\n",
            " -1.5926000e+03 -1.5226550e+03 -1.4547600e+03 -1.3888850e+03\n",
            " -1.3250000e+03 -1.2630750e+03 -1.2030800e+03 -1.1449850e+03\n",
            " -1.0887600e+03 -1.0343750e+03 -9.8180000e+02 -9.3100500e+02\n",
            " -8.8196000e+02 -8.3463500e+02 -7.8900000e+02 -7.4502500e+02\n",
            " -7.0268000e+02 -6.6193500e+02 -6.2276000e+02 -5.8512500e+02\n",
            " -5.4900000e+02 -5.1435500e+02 -4.8116000e+02 -4.4938500e+02\n",
            " -4.1900000e+02 -3.8997500e+02 -3.6228000e+02 -3.3588500e+02\n",
            " -3.1076000e+02 -2.8687500e+02 -2.6420000e+02 -2.4270500e+02\n",
            " -2.2236000e+02 -2.0313500e+02 -1.8500000e+02 -1.6792500e+02\n",
            " -1.5188000e+02 -1.3683500e+02 -1.2276000e+02 -1.0962500e+02\n",
            " -9.7400000e+01 -8.6055000e+01 -7.5560000e+01 -6.5885000e+01\n",
            " -5.7000000e+01 -4.8875000e+01 -4.1480000e+01 -3.4785000e+01\n",
            " -2.8760000e+01 -2.3375000e+01 -1.8600000e+01 -1.4405000e+01\n",
            " -1.0760000e+01 -7.6350000e+00 -5.0000000e+00 -2.8250000e+00\n",
            " -1.0800000e+00  2.6500000e-01  1.2400000e+00  1.8750000e+00\n",
            "  2.2000000e+00  2.2450000e+00  2.0400000e+00  1.6150000e+00\n",
            "  1.0000000e+00  2.2500000e-01 -6.8000000e-01 -1.6850000e+00\n",
            " -2.7600000e+00 -3.8750000e+00 -5.0000000e+00 -6.1050000e+00\n",
            " -7.1600000e+00 -8.1350000e+00 -9.0000000e+00 -9.7250000e+00\n",
            " -1.0280000e+01 -1.0635000e+01 -1.0760000e+01 -1.0625000e+01\n",
            " -1.0200000e+01 -9.4550000e+00 -8.3600000e+00 -6.8850000e+00\n",
            " -5.0000000e+00 -2.6750000e+00  1.2000000e-01  3.4150000e+00\n",
            "  7.2400000e+00  1.1625000e+01  1.6600000e+01  2.2195000e+01\n",
            "  2.8440000e+01  3.5365000e+01  4.3000000e+01  5.1375000e+01\n",
            "  6.0520000e+01  7.0465000e+01  8.1240000e+01  9.2875000e+01\n",
            "  1.0540000e+02  1.1884500e+02  1.3324000e+02  1.4861500e+02\n",
            "  1.6500000e+02  1.8242500e+02  2.0092000e+02  2.2051500e+02\n",
            "  2.4124000e+02  2.6312500e+02  2.8620000e+02  3.1049500e+02\n",
            "  3.3604000e+02  3.6286500e+02  3.9100000e+02  4.2047500e+02\n",
            "  4.5132000e+02  4.8356500e+02  5.1724000e+02  5.5237500e+02\n",
            "  5.8900000e+02  6.2714500e+02  6.6684000e+02  7.0811500e+02\n",
            "  7.5100000e+02  7.9552500e+02  8.4172000e+02  8.8961500e+02\n",
            "  9.3924000e+02  9.9062500e+02  1.0438000e+03  1.0987950e+03\n",
            "  1.1556400e+03  1.2143650e+03  1.2750000e+03  1.3375750e+03\n",
            "  1.4021200e+03  1.4686650e+03  1.5372400e+03  1.6078750e+03\n",
            "  1.6806000e+03  1.7554450e+03  1.8324400e+03  1.9116150e+03\n",
            "  1.9930000e+03  2.0766250e+03  2.1625200e+03  2.2507150e+03\n",
            "  2.3412400e+03  2.4341250e+03  2.5294000e+03  2.6270950e+03\n",
            "  2.7272400e+03  2.8298650e+03  2.9350000e+03  3.0426750e+03\n",
            "  3.1529200e+03  3.2657650e+03  3.3812400e+03  3.4993750e+03\n",
            "  3.6202000e+03  3.7437450e+03  3.8700400e+03  3.9991150e+03\n",
            "  4.1310000e+03  4.2657250e+03  4.4033200e+03  4.5438150e+03\n",
            "  4.6872400e+03  4.8336250e+03  4.9830000e+03  5.1353950e+03\n",
            "  5.2908400e+03  5.4493650e+03  5.6110000e+03  5.7757750e+03\n",
            "  5.9437200e+03  6.1148650e+03  6.2892400e+03  6.4668750e+03\n",
            "  6.6478000e+03  6.8320450e+03  7.0196400e+03  7.2106150e+03\n",
            "  7.4050000e+03  7.6028250e+03  7.8041200e+03  8.0089150e+03\n",
            "  8.2172400e+03  8.4291250e+03  8.6446000e+03  8.8636950e+03\n",
            "  9.0864400e+03  9.3128650e+03  9.5430000e+03  9.7768750e+03\n",
            "  1.0014520e+04  1.0255965e+04  1.0501240e+04  1.0750375e+04\n",
            "  1.1003400e+04  1.1260345e+04  1.1521240e+04  1.1786115e+04\n",
            "  1.2055000e+04  1.2327925e+04  1.2604920e+04  1.2886015e+04\n",
            "  1.3171240e+04  1.3460625e+04  1.3754200e+04  1.4051995e+04\n",
            "  1.4354040e+04  1.4660365e+04  1.4971000e+04  1.5285975e+04\n",
            "  1.5605320e+04  1.5929065e+04  1.6257240e+04  1.6589875e+04\n",
            "  1.6927000e+04  1.7268645e+04  1.7614840e+04  1.7965615e+04\n",
            "  1.8321000e+04  1.8681025e+04  1.9045720e+04  1.9415115e+04\n",
            "  1.9789240e+04  2.0168125e+04  2.0551800e+04  2.0940295e+04\n",
            "  2.1333640e+04  2.1731865e+04  2.2135000e+04  2.2543075e+04\n",
            "  2.2956120e+04  2.3374165e+04  2.3797240e+04  2.4225375e+04\n",
            "  2.4658600e+04  2.5096945e+04  2.5540440e+04  2.5989115e+04\n",
            "  2.6443000e+04  2.6902125e+04  2.7366520e+04  2.7836215e+04\n",
            "  2.8311240e+04  2.8791625e+04  2.9277400e+04  2.9768595e+04\n",
            "  3.0265240e+04  3.0767365e+04  3.1275000e+04  3.1788175e+04\n",
            "  3.2306920e+04  3.2831265e+04  3.3361240e+04  3.3896875e+04\n",
            "  3.4438200e+04  3.4985245e+04  3.5538040e+04  3.6096615e+04]\n"
          ]
        }
      ]
    },
    {
      "cell_type": "code",
      "source": [
        "plt.scatter(x,y, color=\"red\", label=\"original_data\")\n",
        "plt.legend()"
      ],
      "metadata": {
        "colab": {
          "base_uri": "https://localhost:8080/",
          "height": 453
        },
        "id": "m-HcRXfv1L3D",
        "outputId": "f5e9ca57-608c-4b3f-cb65-5ec5e59326bc"
      },
      "execution_count": 7,
      "outputs": [
        {
          "output_type": "execute_result",
          "data": {
            "text/plain": [
              "<matplotlib.legend.Legend at 0x7ac5f4e17220>"
            ]
          },
          "metadata": {},
          "execution_count": 7
        },
        {
          "output_type": "display_data",
          "data": {
            "text/plain": [
              "<Figure size 640x480 with 1 Axes>"
            ],
            "image/png": "[encoded data removed]"
          },
          "metadata": {}
        }
      ]
    },
    {
      "cell_type": "code",
      "source": [
        "total_cnt = x.shape[0]\n",
        "total_cnt\n",
        "\n",
        "ind = np.random.permutation(total_cnt)\n",
        "x = x[ind]\n",
        "y = y[ind]\n",
        "\n",
        "print(x)"
      ],
      "metadata": {
        "colab": {
          "base_uri": "https://localhost:8080/"
        },
        "id": "7scszLDt6Y1j",
        "outputId": "72c84107-9c0d-4828-dddf-8936fdbd1c56"
      },
      "execution_count": 10,
      "outputs": [
        {
          "output_type": "stream",
          "name": "stdout",
          "text": [
            "[ 4.50000000e+00  1.37000000e+01  2.50000000e+00  4.40000000e+00\n",
            "  1.96000000e+01 -1.20000000e+01 -5.70000000e+00 -3.30000000e+00\n",
            " -5.50000000e+00  7.60000000e+00  6.50000000e+00  2.00000000e-01\n",
            " -2.00000000e+00 -9.60000000e+00 -4.20000000e+00 -1.11000000e+01\n",
            " -1.16000000e+01 -1.40000000e+00 -1.66000000e+01  8.60000000e+00\n",
            "  7.50000000e+00  1.35000000e+01 -1.27000000e+01  1.10000000e+00\n",
            "  1.00000000e+00 -3.60000000e+00 -8.20000000e+00  1.52000000e+01\n",
            "  1.27000000e+01 -1.60000000e+01  1.77000000e+01  1.22000000e+01\n",
            " -6.60000000e+00  3.60000000e+00  7.10000000e+00  4.00000000e+00\n",
            "  1.36000000e+01  1.08000000e+01  1.59000000e+01  2.40000000e+00\n",
            " -1.68000000e+01  9.80000000e+00  1.28000000e+01  2.80000000e+00\n",
            " -1.40000000e+01  1.56000000e+01  8.30000000e+00  8.80000000e+00\n",
            " -1.94000000e+01 -1.38000000e+01  1.79000000e+01  5.20000000e+00\n",
            "  7.90000000e+00  1.06000000e+01  5.50000000e+00 -8.70000000e+00\n",
            " -7.80000000e+00  4.80000000e+00  1.64000000e+01 -8.50000000e+00\n",
            " -4.10000000e+00  1.46000000e+01  1.23000000e+01 -1.57000000e+01\n",
            " -2.00000000e+01 -1.60000000e+00  1.95000000e+01  1.70000000e+00\n",
            "  1.65000000e+01 -1.84000000e+01  1.19000000e+01  1.00000000e+01\n",
            "  5.10000000e+00 -8.00000000e-01 -2.60000000e+00 -4.60000000e+00\n",
            " -1.74000000e+01 -1.33000000e+01  1.30000000e+00  1.87000000e+01\n",
            " -1.91000000e+01  1.86000000e+01  7.30000000e+00 -6.20000000e+00\n",
            "  1.44000000e+01  1.33000000e+01 -4.00000000e-01 -1.83000000e+01\n",
            "  7.40000000e+00 -1.26000000e+01  1.38000000e+01  1.90000000e+01\n",
            "  1.58000000e+01  1.51000000e+01 -8.90000000e+00  1.70000000e+01\n",
            " -3.20000000e+00  4.10000000e+00  9.00000000e-01  1.82000000e+01\n",
            " -8.30000000e+00 -4.70000000e+00 -7.00000000e+00 -1.86000000e+01\n",
            " -1.20000000e+00  6.60000000e+00 -1.09000000e+01  1.50000000e+00\n",
            "  3.20000000e+00 -1.00000000e+00 -2.90000000e+00  1.71000000e+01\n",
            " -1.14000000e+01 -1.73000000e+01  2.20000000e+00 -1.25000000e+01\n",
            " -8.10000000e+00  1.24000000e+01 -1.45000000e+01  1.93000000e+01\n",
            " -1.30000000e+00 -4.80000000e+00  1.31000000e+01 -9.20000000e+00\n",
            " -1.43000000e+01 -1.88000000e+01 -1.48000000e+01  1.50000000e+01\n",
            " -9.10000000e+00  6.00000000e-01  1.68000000e+01  5.40000000e+00\n",
            "  3.70000000e+00  9.30000000e+00  1.16000000e+01  1.89000000e+01\n",
            " -5.60000000e+00  1.32000000e+01 -1.17000000e+01  1.05000000e+01\n",
            " -4.30000000e+00 -2.50000000e+00 -1.12000000e+01 -1.08000000e+01\n",
            "  1.10000000e+01 -2.00000000e-01  6.90000000e+00 -5.30000000e+00\n",
            " -1.82000000e+01  1.04000000e+01 -6.80000000e+00 -1.01000000e+01\n",
            " -6.00000000e+00 -3.50000000e+00 -1.47000000e+01 -2.10000000e+00\n",
            " -9.90000000e+00 -9.00000000e-01  1.66000000e+01 -6.40000000e+00\n",
            "  8.10000000e+00 -4.00000000e+00  1.81000000e+01  8.20000000e+00\n",
            " -1.72000000e+01 -1.34000000e+01 -1.18000000e+01  1.39000000e+01\n",
            "  1.94000000e+01  1.55000000e+01 -9.30000000e+00 -8.60000000e+00\n",
            "  9.10000000e+00  1.99000000e+01  1.53000000e+01 -5.00000000e+00\n",
            "  7.00000000e+00  8.00000000e-01  1.61000000e+01 -1.70000000e+01\n",
            "  4.70000000e+00  5.90000000e+00 -3.00000000e+00  1.67000000e+01\n",
            "  1.40000000e+01 -7.20000000e+00 -1.93000000e+01 -2.70000000e+00\n",
            " -3.00000000e-01  1.09000000e+01 -1.55000000e+01 -1.37000000e+01\n",
            " -1.02000000e+01 -1.44000000e+01 -9.70000000e+00 -1.36000000e+01\n",
            "  1.41000000e+01  3.10000000e+00  9.70000000e+00 -1.69000000e+01\n",
            "  2.70000000e+00 -8.00000000e+00  1.07000000e+01 -4.90000000e+00\n",
            " -1.70000000e+00  1.11000000e+01 -3.10000000e+00 -6.10000000e+00\n",
            "  1.83000000e+01 -1.81000000e+01 -1.52000000e+01 -5.80000000e+00\n",
            " -1.76000000e+01  1.60000000e+01 -1.00000000e+01 -1.75000000e+01\n",
            "  1.97000000e+01  1.92000000e+01  3.00000000e+00  1.78000000e+01\n",
            "  2.84217094e-13 -1.67000000e+01  8.40000000e+00  6.10000000e+00\n",
            "  1.80000000e+01 -1.06000000e+01  1.30000000e+01 -1.21000000e+01\n",
            " -1.78000000e+01  6.80000000e+00 -5.10000000e+00  5.00000000e+00\n",
            "  1.63000000e+01  2.30000000e+00 -4.40000000e+00 -3.70000000e+00\n",
            "  8.90000000e+00  3.40000000e+00 -8.80000000e+00  1.62000000e+01\n",
            "  2.00000000e+00 -1.50000000e+01  2.10000000e+00 -1.22000000e+01\n",
            " -1.53000000e+01  7.00000000e-01 -5.40000000e+00 -1.07000000e+01\n",
            " -7.10000000e+00  1.43000000e+01  1.29000000e+01 -7.40000000e+00\n",
            " -5.00000000e-01 -7.30000000e+00  1.17000000e+01 -1.24000000e+01\n",
            "  1.47000000e+01 -1.30000000e+01 -7.50000000e+00  1.01000000e+01\n",
            " -1.77000000e+01  1.80000000e+00  9.50000000e+00 -9.80000000e+00\n",
            " -1.32000000e+01 -1.04000000e+01 -1.19000000e+01 -6.70000000e+00\n",
            " -9.40000000e+00 -2.30000000e+00 -1.85000000e+01 -1.10000000e+01\n",
            " -1.28000000e+01 -1.90000000e+00 -1.46000000e+01  1.74000000e+01\n",
            " -1.31000000e+01  1.25000000e+01  9.00000000e+00 -1.49000000e+01\n",
            "  1.20000000e+01 -2.80000000e+00 -6.00000000e-01  3.30000000e+00\n",
            " -3.40000000e+00 -1.65000000e+01  2.60000000e+00  1.21000000e+01\n",
            "  5.60000000e+00  4.60000000e+00  1.13000000e+01  1.72000000e+01\n",
            " -1.98000000e+01  9.20000000e+00 -3.80000000e+00 -1.29000000e+01\n",
            " -7.00000000e-01  4.30000000e+00  1.12000000e+01  1.03000000e+01\n",
            "  7.70000000e+00 -1.03000000e+01 -1.71000000e+01 -1.10000000e+00\n",
            "  1.98000000e+01 -2.40000000e+00 -1.90000000e+01 -1.05000000e+01\n",
            " -1.99000000e+01  1.48000000e+01 -1.51000000e+01  5.70000000e+00\n",
            " -1.97000000e+01 -5.90000000e+00  9.40000000e+00  8.00000000e+00\n",
            " -1.87000000e+01  1.91000000e+01  1.02000000e+01  1.15000000e+01\n",
            "  5.00000000e-01  5.80000000e+00  1.14000000e+01 -1.64000000e+01\n",
            "  4.20000000e+00  1.18000000e+01  1.00000000e-01  1.49000000e+01\n",
            "  1.60000000e+00 -6.90000000e+00  1.26000000e+01 -1.59000000e+01\n",
            "  6.70000000e+00  8.50000000e+00 -1.54000000e+01 -1.13000000e+01\n",
            " -9.50000000e+00  7.80000000e+00  7.20000000e+00 -7.60000000e+00\n",
            " -1.23000000e+01 -1.80000000e+01 -1.62000000e+01  1.88000000e+01\n",
            "  8.70000000e+00 -1.15000000e+01  3.80000000e+00 -1.80000000e+00\n",
            "  1.20000000e+00  1.84000000e+01 -1.58000000e+01 -1.63000000e+01\n",
            "  1.85000000e+01  4.00000000e-01  6.40000000e+00 -9.00000000e+00\n",
            " -5.20000000e+00 -1.96000000e+01 -3.90000000e+00 -1.39000000e+01\n",
            "  3.90000000e+00  2.90000000e+00  6.20000000e+00  1.45000000e+01\n",
            " -1.56000000e+01  1.75000000e+01 -1.42000000e+01  6.30000000e+00\n",
            " -7.70000000e+00 -1.00000000e-01  1.54000000e+01  1.73000000e+01\n",
            " -1.92000000e+01 -6.30000000e+00 -1.41000000e+01  9.90000000e+00\n",
            " -1.61000000e+01 -2.20000000e+00 -1.89000000e+01  3.50000000e+00\n",
            "  1.34000000e+01  1.57000000e+01 -1.35000000e+01 -6.50000000e+00\n",
            " -8.40000000e+00  6.00000000e+00 -1.79000000e+01  1.76000000e+01\n",
            "  1.69000000e+01 -4.50000000e+00 -1.50000000e+00  4.90000000e+00\n",
            "  3.00000000e-01  1.90000000e+00 -1.95000000e+01 -7.90000000e+00\n",
            "  5.30000000e+00  1.40000000e+00  9.60000000e+00  1.42000000e+01]\n"
          ]
        }
      ]
    },
    {
      "cell_type": "code",
      "source": [
        "xmn = np.min(x)\n",
        "xmx = np.max(x)\n",
        "ymn = np.min(y)\n",
        "ymx = np.max(y)\n",
        "\n",
        "x = 2*((x-xmn)/(xmx-xmn))-1\n",
        "y = 2*((y-ymn)/(ymx-ymn))-1"
      ],
      "metadata": {
        "id": "dPpbgZ3VMKQ3"
      },
      "execution_count": 31,
      "outputs": []
    },
    {
      "cell_type": "code",
      "source": [
        "size = (len(x))\n",
        "xtrain = x[:int(size*0.9)]\n",
        "ytrain = y[:int(size*0.9)]\n",
        "\n",
        "xval = x[int(size*0.9):int(size*.95)]\n",
        "yval = y[int(size*0.9):int(size*.95)]\n",
        "\n",
        "xtest = x[int(size*.95): ]\n",
        "ytest = y[int(size*.95):]\n"
      ],
      "metadata": {
        "id": "-HRx_r2GM_Pw"
      },
      "execution_count": 32,
      "outputs": []
    },
    {
      "cell_type": "code",
      "source": [
        "history = model.fit(xtrain, ytrain, epochs=20,validation_data = (xval, yval))\n",
        "history"
      ],
      "metadata": {
        "colab": {
          "base_uri": "https://localhost:8080/"
        },
        "id": "yeaoJiC3OYms",
        "outputId": "60deff51-6e78-4c8a-9f04-d49054e83c6c"
      },
      "execution_count": 33,
      "outputs": [
        {
          "output_type": "stream",
          "name": "stdout",
          "text": [
            "Epoch 1/20\n",
            "141/141 [==============================] - 2s 5ms/step - loss: 0.0166 - accuracy: 0.8987 - val_loss: 0.0018 - val_accuracy: 0.9877\n",
            "Epoch 2/20\n",
            "141/141 [==============================] - 0s 3ms/step - loss: 6.5376e-04 - accuracy: 0.9960 - val_loss: 1.8585e-04 - val_accuracy: 0.9987\n",
            "Epoch 3/20\n",
            "141/141 [==============================] - 1s 4ms/step - loss: 1.2265e-04 - accuracy: 0.9993 - val_loss: 1.1275e-04 - val_accuracy: 0.9992\n",
            "Epoch 4/20\n",
            "141/141 [==============================] - 1s 5ms/step - loss: 4.8115e-05 - accuracy: 0.9997 - val_loss: 2.7267e-05 - val_accuracy: 0.9998\n",
            "Epoch 5/20\n",
            "141/141 [==============================] - 1s 5ms/step - loss: 2.2441e-05 - accuracy: 0.9999 - val_loss: 1.2351e-05 - val_accuracy: 0.9999\n",
            "Epoch 6/20\n",
            "141/141 [==============================] - 1s 5ms/step - loss: 1.2037e-05 - accuracy: 0.9999 - val_loss: 7.1677e-06 - val_accuracy: 1.0000\n",
            "Epoch 7/20\n",
            "141/141 [==============================] - 1s 4ms/step - loss: 8.4504e-06 - accuracy: 0.9999 - val_loss: 6.8505e-06 - val_accuracy: 1.0000\n",
            "Epoch 8/20\n",
            "141/141 [==============================] - 1s 4ms/step - loss: 8.3069e-06 - accuracy: 0.9999 - val_loss: 3.3979e-06 - val_accuracy: 1.0000\n",
            "Epoch 9/20\n",
            "141/141 [==============================] - 1s 4ms/step - loss: 5.2026e-06 - accuracy: 1.0000 - val_loss: 6.2004e-06 - val_accuracy: 1.0000\n",
            "Epoch 10/20\n",
            "141/141 [==============================] - 1s 4ms/step - loss: 3.8583e-06 - accuracy: 1.0000 - val_loss: 7.4134e-06 - val_accuracy: 0.9999\n",
            "Epoch 11/20\n",
            "141/141 [==============================] - 0s 4ms/step - loss: 5.4957e-06 - accuracy: 1.0000 - val_loss: 1.2099e-05 - val_accuracy: 0.9999\n",
            "Epoch 12/20\n",
            "141/141 [==============================] - 1s 4ms/step - loss: 7.6556e-06 - accuracy: 1.0000 - val_loss: 3.8744e-06 - val_accuracy: 1.0000\n",
            "Epoch 13/20\n",
            "141/141 [==============================] - 1s 4ms/step - loss: 4.2464e-06 - accuracy: 1.0000 - val_loss: 4.0964e-06 - val_accuracy: 1.0000\n",
            "Epoch 14/20\n",
            "141/141 [==============================] - 1s 4ms/step - loss: 5.9360e-06 - accuracy: 1.0000 - val_loss: 3.5010e-05 - val_accuracy: 0.9998\n",
            "Epoch 15/20\n",
            "141/141 [==============================] - 0s 4ms/step - loss: 1.0855e-05 - accuracy: 0.9999 - val_loss: 1.9741e-06 - val_accuracy: 1.0000\n",
            "Epoch 16/20\n",
            "141/141 [==============================] - 1s 4ms/step - loss: 1.6505e-05 - accuracy: 0.9999 - val_loss: 2.8046e-06 - val_accuracy: 1.0000\n",
            "Epoch 17/20\n",
            "141/141 [==============================] - 1s 4ms/step - loss: 5.2098e-06 - accuracy: 1.0000 - val_loss: 8.5272e-06 - val_accuracy: 0.9999\n",
            "Epoch 18/20\n",
            "141/141 [==============================] - 1s 4ms/step - loss: 1.4200e-05 - accuracy: 0.9999 - val_loss: 2.2051e-05 - val_accuracy: 0.9999\n",
            "Epoch 19/20\n",
            "141/141 [==============================] - 1s 4ms/step - loss: 1.2003e-05 - accuracy: 0.9999 - val_loss: 1.5821e-06 - val_accuracy: 1.0000\n",
            "Epoch 20/20\n",
            "141/141 [==============================] - 1s 4ms/step - loss: 5.5700e-06 - accuracy: 1.0000 - val_loss: 8.1793e-06 - val_accuracy: 0.9999\n"
          ]
        },
        {
          "output_type": "execute_result",
          "data": {
            "text/plain": [
              "<keras.src.callbacks.History at 0x7be080301180>"
            ]
          },
          "metadata": {},
          "execution_count": 33
        }
      ]
    },
    {
      "cell_type": "code",
      "source": [
        "plt.plot(history.history['loss'], color=\"blue\", label=\"loss\")\n",
        "plt.plot(history.history['val_loss'], color=\"green\", label=\"val_loss\")\n",
        "plt.legend()"
      ],
      "metadata": {
        "colab": {
          "base_uri": "https://localhost:8080/",
          "height": 448
        },
        "id": "IR2BravZjOFF",
        "outputId": "132a73d9-9ff9-4eca-a5d2-d21c87c6f6f1"
      },
      "execution_count": 34,
      "outputs": [
        {
          "output_type": "execute_result",
          "data": {
            "text/plain": [
              "<matplotlib.legend.Legend at 0x7be01835ae00>"
            ]
          },
          "metadata": {},
          "execution_count": 34
        },
        {
          "output_type": "display_data",
          "data": {
            "text/plain": [
              "<Figure size 640x480 with 1 Axes>"
            ],
            "image/png": "[encoded data removed]"
          },
          "metadata": {}
        }
      ]
    },
    {
      "cell_type": "code",
      "source": [
        "plt.plot(history.history['accuracy'], color=\"blue\", label=\"accuracy\")\n",
        "plt.plot(history.history['val_accuracy'], color=\"green\",label=\"val_accuracy\")\n",
        "plt.legend()"
      ],
      "metadata": {
        "colab": {
          "base_uri": "https://localhost:8080/",
          "height": 448
        },
        "id": "QCg-ZfQNs9rV",
        "outputId": "fb876ad1-2de6-4223-ba16-f29c65692f66"
      },
      "execution_count": 35,
      "outputs": [
        {
          "output_type": "execute_result",
          "data": {
            "text/plain": [
              "<matplotlib.legend.Legend at 0x7be0183eacb0>"
            ]
          },
          "metadata": {},
          "execution_count": 35
        },
        {
          "output_type": "display_data",
          "data": {
            "text/plain": [
              "<Figure size 640x480 with 1 Axes>"
            ],
            "image/png": "[encoded data removed]"
          },
          "metadata": {}
        }
      ]
    },
    {
      "cell_type": "code",
      "source": [
        "y_pred = model.predict(xtest)"
      ],
      "metadata": {
        "colab": {
          "base_uri": "https://localhost:8080/"
        },
        "id": "Q-ASKsy4vPyR",
        "outputId": "f492fb08-3b0f-4f91-ed4d-c157e316d095"
      },
      "execution_count": 36,
      "outputs": [
        {
          "output_type": "stream",
          "name": "stdout",
          "text": [
            "8/8 [==============================] - 0s 2ms/step\n"
          ]
        }
      ]
    },
    {
      "cell_type": "code",
      "source": [
        "x_true = (((xtest+1)*(xmx-xmn))/2) + xmn\n",
        "y_true = (((ytest+1)*(ymx-ymn))/2) + ymn\n",
        "y_pred_true = (((y_pred+1)*(ymx-ymn))/2) + ymn\n"
      ],
      "metadata": {
        "id": "sFX5rtIszOyb"
      },
      "execution_count": 37,
      "outputs": []
    },
    {
      "cell_type": "code",
      "source": [
        "plt.scatter(x_true,y_true,color=\"green\", marker='o', label = 'test_data')\n",
        "plt.scatter(x_true,y_pred_true,color=\"red\", marker='o', label = 'predict_data')\n",
        "plt.legend()\n",
        "plt.show()\n",
        "# plt.plot(xtest,y_pred, color=\"blue\")"
      ],
      "metadata": {
        "colab": {
          "base_uri": "https://localhost:8080/",
          "height": 431
        },
        "id": "YM7wHEzHwAvd",
        "outputId": "87145f20-3e5c-4dc7-b0bd-a23944363101"
      },
      "execution_count": 38,
      "outputs": [
        {
          "output_type": "display_data",
          "data": {
            "text/plain": [
              "<Figure size 640x480 with 1 Axes>"
            ],
            "image/png": "[encoded data removed]"
          },
          "metadata": {}
        }
      ]
    },
    {
      "cell_type": "code",
      "source": [],
      "metadata": {
        "id": "O99ibEdR0BKS"
      },
      "execution_count": null,
      "outputs": []
    }
  ]
}